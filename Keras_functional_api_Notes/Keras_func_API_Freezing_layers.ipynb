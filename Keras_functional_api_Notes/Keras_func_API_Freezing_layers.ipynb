{
  "nbformat": 4,
  "nbformat_minor": 0,
  "metadata": {
    "colab": {
      "name": "Keras_func_API_Freezing_layers.ipynb",
      "provenance": [],
      "collapsed_sections": []
    },
    "kernelspec": {
      "name": "python3",
      "display_name": "Python 3"
    },
    "accelerator": "GPU"
  },
  "cells": [
    {
      "cell_type": "code",
      "metadata": {
        "id": "lzLHV5yf57Ic",
        "colab_type": "code",
        "colab": {}
      },
      "source": [
        ""
      ],
      "execution_count": null,
      "outputs": []
    },
    {
      "cell_type": "code",
      "metadata": {
        "id": "ORliYZt26Dpa",
        "colab_type": "code",
        "colab": {}
      },
      "source": [
        "import tensorflow as tf\n",
        "import numpy as np\n",
        "import matplotlib.pyplot as plt\n",
        "from tensorflow.keras.models import Model\n",
        "from tensorflow.keras.models import load_model\n",
        "from tensorflow.keras.layers import Input, Dense, Flatten, Conv2D, MaxPooling2D\n",
        "%matplotlib inline"
      ],
      "execution_count": 4,
      "outputs": []
    },
    {
      "cell_type": "code",
      "metadata": {
        "id": "teNvVJGJ6DtX",
        "colab_type": "code",
        "colab": {}
      },
      "source": [
        "# Build a small functional model\n",
        "\n",
        "# freezing layer by setting trainable = False \n",
        "inputs = Input(shape=(8,8,1), name = \"input_layer\")\n",
        "h = Conv2D(16, 3, activation='relu', name='conv2d_layer', trainable = False)(inputs)\n",
        "h = MaxPooling2D(3, name=\"max_pool2d_layer\")(h)\n",
        "h = Flatten(name= \"flatten_layer\")(h)\n",
        "outputs = Dense(10, activation='softmax', name=\"softmax_layer\")(h)\n",
        "\n",
        "model = Model(inputs=inputs, outputs = outputs)\n"
      ],
      "execution_count": null,
      "outputs": []
    },
    {
      "cell_type": "markdown",
      "metadata": {
        "id": "UIbejPaA8E3Q",
        "colab_type": "text"
      },
      "source": [
        "## each layer has a default parameter **trainable = True**\n",
        "## but if u set this to **trainable = False** then that specific layer will not get trained. "
      ]
    },
    {
      "cell_type": "code",
      "metadata": {
        "id": "vUvYZQUh6Dxt",
        "colab_type": "code",
        "colab": {}
      },
      "source": [
        "# There is also another way of doing the same thing. i.e. freezing the model layers\n",
        "\n",
        "# freezing layer by setting trainable = False \n",
        "inputs = Input(shape=(8,8,1), name = \"input_layer\")\n",
        "h = Conv2D(16, 3, activation='relu', name='conv2d_layer')(inputs)\n",
        "h = MaxPooling2D(3, name=\"max_pool2d_layer\")(h)\n",
        "h = Flatten(name= \"flatten_layer\")(h)\n",
        "outputs = Dense(10, activation='softmax', name=\"softmax_layer\")(h)\n",
        "\n",
        "model = Model(inputs=inputs, outputs = outputs)\n",
        "\n",
        "model.get_layer('conv2d_layer').trainable = False \n",
        "# this is how u can freeze the specific layer by accesing it from its name.  "
      ],
      "execution_count": 6,
      "outputs": []
    },
    {
      "cell_type": "markdown",
      "metadata": {
        "id": "CThu3Mvy83ss",
        "colab_type": "text"
      },
      "source": [
        "# Note: You freeze the layers of the model before you compile it"
      ]
    },
    {
      "cell_type": "code",
      "metadata": {
        "id": "tPkZxiEA6D4B",
        "colab_type": "code",
        "colab": {}
      },
      "source": [
        "model.compile(loss= \"sparse_categorical_crossentropy\")"
      ],
      "execution_count": 7,
      "outputs": []
    },
    {
      "cell_type": "markdown",
      "metadata": {
        "id": "RQLwsURI9LgN",
        "colab_type": "text"
      },
      "source": [
        "# We can also freeze Entire model\n",
        "\n",
        "lets say we have stored our trained model into disk. \n",
        "later on when we load the model and then we can freeze all its weights by setting  **model.trainable = False**"
      ]
    },
    {
      "cell_type": "code",
      "metadata": {
        "id": "pDh-hZe16EIT",
        "colab_type": "code",
        "colab": {}
      },
      "source": [
        "# lets say we have stored our trained model into disk. \n",
        "# later on when we load the model we can freeze all its weights by setting model.trainable = False\n",
        "\n",
        "model = load_model(\"my_pretrained_model.h5\")\n",
        "model.trainable = False\n",
        "\n",
        "# let's say now we want to use few layers of our pretrained model and just removing the last few dense layers  and add our custom trainable dense layer on the top\n",
        "# we can do this by accessing specific layer of the pretrained model\n",
        "\n",
        "flatten_output = model.get_layer('flatten_layer').output\n",
        "new_outputs = Dense(5, activation='softmax', name = \"new_softmax_layer\")(flatten_output)\n",
        "\n",
        "new_model = Model(inputs= model.input, outputs= new_outputs)\n",
        "new_model.compile(loss=\"sparse_categorical_crossentropy\")\n",
        "new_model.fit(X_train, y_train, epochs= 10)\n"
      ],
      "execution_count": null,
      "outputs": []
    },
    {
      "cell_type": "markdown",
      "metadata": {
        "id": "c_gnpN9X-fsj",
        "colab_type": "text"
      },
      "source": [
        "# **Transfer learning Steps:**\n",
        "\n",
        "step1:\n",
        "load pretrained model\n",
        "\n",
        "step2:\n",
        "freeze the whole model\n",
        "\n",
        "step3:\n",
        "access the output of the specific layer of the pretrained model\n",
        "\n",
        "step4:\n",
        "add your own layers on the top of that accessed layer.\n",
        "\n",
        "step5:\n",
        "finaly train"
      ]
    },
    {
      "cell_type": "code",
      "metadata": {
        "id": "L3-Ec4oj6ELT",
        "colab_type": "code",
        "colab": {}
      },
      "source": [
        ""
      ],
      "execution_count": null,
      "outputs": []
    },
    {
      "cell_type": "markdown",
      "metadata": {
        "id": "IfOZvqZLAYXI",
        "colab_type": "text"
      },
      "source": [
        "# **FREEZING LAYERS PRACTICE**"
      ]
    },
    {
      "cell_type": "code",
      "metadata": {
        "id": "FXu0g7I-6EF7",
        "colab_type": "code",
        "colab": {}
      },
      "source": [
        "# we can initialize the weights and biases of our model layers by using the parameter \n",
        "# kernel_initializer = \"random_uniform\"\n",
        "# bias_initializer = \"ones\"\n",
        "\n",
        "# Build a small Sequential model\n",
        "\n",
        "from tensorflow.keras.models import Sequential\n",
        "from tensorflow.keras import layers\n",
        "\n",
        "model = Sequential([\n",
        "    layers.Dense(4, input_shape=(4,), activation='relu', kernel_initializer='random_uniform',\n",
        "                 bias_initializer='ones'),  # initializing bias with 1 values\n",
        "    layers.Dense(2, activation='relu', kernel_initializer='lecun_normal', bias_initializer='ones'),\n",
        "    layers.Dense(4, activation='softmax'),\n",
        "])"
      ],
      "execution_count": 8,
      "outputs": []
    },
    {
      "cell_type": "code",
      "metadata": {
        "id": "ZTasQh1w6EEF",
        "colab_type": "code",
        "colab": {
          "base_uri": "https://localhost:8080/",
          "height": 265
        },
        "outputId": "c152b5c7-d869-4717-afc2-9acdc2c49c21"
      },
      "source": [
        "# Display the model summary\n",
        "\n",
        "model.summary()"
      ],
      "execution_count": 9,
      "outputs": [
        {
          "output_type": "stream",
          "text": [
            "Model: \"sequential\"\n",
            "_________________________________________________________________\n",
            "Layer (type)                 Output Shape              Param #   \n",
            "=================================================================\n",
            "dense (Dense)                (None, 4)                 20        \n",
            "_________________________________________________________________\n",
            "dense_1 (Dense)              (None, 2)                 10        \n",
            "_________________________________________________________________\n",
            "dense_2 (Dense)              (None, 4)                 12        \n",
            "=================================================================\n",
            "Total params: 42\n",
            "Trainable params: 42\n",
            "Non-trainable params: 0\n",
            "_________________________________________________________________\n"
          ],
          "name": "stdout"
        }
      ]
    },
    {
      "cell_type": "markdown",
      "metadata": {
        "id": "L6ZGng_xBBxd",
        "colab_type": "text"
      },
      "source": [
        "#### Examine the weight matrix variation over training"
      ]
    },
    {
      "cell_type": "code",
      "metadata": {
        "id": "vFm9vS76BHGa",
        "colab_type": "code",
        "colab": {}
      },
      "source": [
        "# retireve the weights and biases\n",
        "\n",
        "w0_layers = [e.weights[0].numpy() for e in model.layers]\n",
        "b0_layers = [e.bias[0].numpy() for e in model.layers]\n"
      ],
      "execution_count": 19,
      "outputs": []
    },
    {
      "cell_type": "code",
      "metadata": {
        "id": "vpiokO4H6EA6",
        "colab_type": "code",
        "colab": {}
      },
      "source": [
        "# Construct a synthetic dataset\n",
        "\n",
        "x_train = np.random.random((100, 4))\n",
        "y_train = x_train\n",
        "\n",
        "x_test = np.random.random((20, 4))\n",
        "y_test = x_test"
      ],
      "execution_count": 20,
      "outputs": []
    },
    {
      "cell_type": "code",
      "metadata": {
        "id": "Pz0JBaLg6D-_",
        "colab_type": "code",
        "colab": {}
      },
      "source": [
        "# Compile and fit the model\n",
        "\n",
        "model.compile(optimizer='adam',\n",
        "              loss='mse',\n",
        "              metrics=['acc'])\n",
        "\n",
        "model.fit(x_train, y_train, epochs=50, verbose=False);"
      ],
      "execution_count": 21,
      "outputs": []
    },
    {
      "cell_type": "code",
      "metadata": {
        "id": "ixIKtdh26D9J",
        "colab_type": "code",
        "colab": {}
      },
      "source": [
        "# Retrieve weights and biases\n",
        "\n",
        "w1_layers = [e.weights[0].numpy() for e in model.layers]\n",
        "b1_layers = [e.bias[0].numpy() for e in model.layers]\n"
      ],
      "execution_count": 22,
      "outputs": []
    },
    {
      "cell_type": "code",
      "metadata": {
        "id": "Q17NeldF6D7d",
        "colab_type": "code",
        "colab": {
          "base_uri": "https://localhost:8080/",
          "height": 556
        },
        "outputId": "d6234981-e76c-4d07-b8b6-b724b3f38092"
      },
      "source": [
        "# Plot the variation\n",
        "\n",
        "plt.figure(figsize=(8,8))\n",
        "for n in range(3):\n",
        "    delta_l = w1_layers[n] - w0_layers[n]\n",
        "    print('Layer '+str(n)+': bias variation: ', np.linalg.norm(b1_layers[n] - b0_layers[n]))\n",
        "    ax = plt.subplot(1,3,n+1)\n",
        "    plt.imshow(delta_l)\n",
        "    plt.title('Layer '+str(n))\n",
        "    plt.axis('off')\n",
        "plt.colorbar()\n",
        "plt.suptitle('Weight matrices variation');\n",
        "\n",
        "# different color means difference in the weights before training and after training of the model."
      ],
      "execution_count": 23,
      "outputs": [
        {
          "output_type": "stream",
          "text": [
            "Layer 0: bias variation:  0.015309453\n",
            "Layer 1: bias variation:  0.04385394\n",
            "Layer 2: bias variation:  0.048764937\n"
          ],
          "name": "stdout"
        },
        {
          "output_type": "display_data",
          "data": {
            "image/png": "[encoded data removed]",
            "text/plain": [
              "<Figure size 576x576 with 4 Axes>"
            ]
          },
          "metadata": {
            "tags": [],
            "needs_background": "light"
          }
        }
      ]
    },
    {
      "cell_type": "code",
      "metadata": {
        "id": "fFoMtGX86D1z",
        "colab_type": "code",
        "colab": {}
      },
      "source": [
        "# Now we will do the same process but now we will freeze the layers"
      ],
      "execution_count": null,
      "outputs": []
    },
    {
      "cell_type": "markdown",
      "metadata": {
        "id": "ojIIZiPCG5oa",
        "colab_type": "text"
      },
      "source": [
        "#### Freeze layers at build time"
      ]
    },
    {
      "cell_type": "code",
      "metadata": {
        "id": "sTeJRneO6D0k",
        "colab_type": "code",
        "colab": {}
      },
      "source": [
        "def get_weights(model):\n",
        "  return [e.weights[0].numpy() for e in model.layers]\n",
        "\n",
        "def get_biases(model):\n",
        "  return [e.bias.numpy() for e in model.layers]\n",
        "\n",
        "# Plot the variation\n",
        "\n",
        "def plot_delta_weights(w0_layers, w1_layers, b0_layers, b1_layers):\n",
        "  plt.figure(figsize=(8,8))\n",
        "  for n in range(3):\n",
        "      delta_l = w1_layers[n] - w0_layers[n]\n",
        "      print('Layer '+str(n)+': bias variation: ', np.linalg.norm(b1_layers[n] - b0_layers[n]))\n",
        "      ax = plt.subplot(1,3,n+1)\n",
        "      plt.imshow(delta_l)\n",
        "      plt.title('Layer '+str(n))\n",
        "      plt.axis('off')\n",
        "  plt.colorbar()\n",
        "  plt.suptitle('Weight matrices variation');\n"
      ],
      "execution_count": 31,
      "outputs": []
    },
    {
      "cell_type": "code",
      "metadata": {
        "id": "FOOSEp2OHVQ1",
        "colab_type": "code",
        "colab": {}
      },
      "source": [
        "# Retrieve weights and biases\n",
        "\n",
        "w0_layers = get_weights(model)\n",
        "b0_layers = get_biases(model)"
      ],
      "execution_count": 32,
      "outputs": []
    },
    {
      "cell_type": "code",
      "metadata": {
        "id": "2X4itvHDHVOB",
        "colab_type": "code",
        "colab": {}
      },
      "source": [
        "# Construct a synthetic dataset\n",
        "\n",
        "x_train = np.random.random((100, 4))\n",
        "y_train = x_train\n",
        "\n",
        "x_test = np.random.random((20, 4))\n",
        "y_test = x_test"
      ],
      "execution_count": 33,
      "outputs": []
    },
    {
      "cell_type": "code",
      "metadata": {
        "id": "gE-iS48UHVMC",
        "colab_type": "code",
        "colab": {}
      },
      "source": [
        "# Compile and fit the model\n",
        "\n",
        "model.compile(optimizer='adam',\n",
        "              loss='mse',\n",
        "              metrics=['acc'])\n",
        "\n",
        "model.fit(x_train, y_train, epochs=50, verbose=False);"
      ],
      "execution_count": 34,
      "outputs": []
    },
    {
      "cell_type": "code",
      "metadata": {
        "id": "Fptt_Z4HHVJy",
        "colab_type": "code",
        "colab": {}
      },
      "source": [
        "# Retrieve weights and biases after training\n",
        "\n",
        "w1_layers = get_weights(model)\n",
        "b1_layers = get_biases(model)"
      ],
      "execution_count": 35,
      "outputs": []
    },
    {
      "cell_type": "code",
      "metadata": {
        "id": "_P_xSV5vHVIW",
        "colab_type": "code",
        "colab": {
          "base_uri": "https://localhost:8080/",
          "height": 556
        },
        "outputId": "50ee354a-94f8-46b9-9488-f8aca6adcd95"
      },
      "source": [
        "# Plot the variation\n",
        "\n",
        "plot_delta_weights(w0_layers, w1_layers, b0_layers, b1_layers)"
      ],
      "execution_count": 36,
      "outputs": [
        {
          "output_type": "stream",
          "text": [
            "Layer 0: bias variation:  0.04708304\n",
            "Layer 1: bias variation:  0.030991316\n",
            "Layer 2: bias variation:  0.17565787\n"
          ],
          "name": "stdout"
        },
        {
          "output_type": "display_data",
          "data": {
            "image/png": "[encoded data removed]",
            "text/plain": [
              "<Figure size 576x576 with 4 Axes>"
            ]
          },
          "metadata": {
            "tags": [],
            "needs_background": "light"
          }
        }
      ]
    },
    {
      "cell_type": "code",
      "metadata": {
        "id": "XvZvYS0JHVG5",
        "colab_type": "code",
        "colab": {}
      },
      "source": [
        "# Freeze layers at build time\n",
        "\n",
        "# Count the trainable and non trainable variables after the freezing\n",
        "\n",
        "n_trainable_variables = len(model.trainable_variables)\n",
        "n_non_trainable_variables = len(model.non_trainable_variables)"
      ],
      "execution_count": 37,
      "outputs": []
    },
    {
      "cell_type": "code",
      "metadata": {
        "id": "PQ74z6xcHVFM",
        "colab_type": "code",
        "colab": {
          "base_uri": "https://localhost:8080/",
          "height": 87
        },
        "outputId": "d9687347-0f22-4498-99f1-03d28212ae17"
      },
      "source": [
        "# Display the number of trainable and non trainable variables after the freezing\n",
        "\n",
        "print(\"\\n After freezing:\\n\\t Number of trainable variables: \", n_trainable_variables,\n",
        "                         \"\\n\\t Number of non trainable variables: \", n_non_trainable_variables)"
      ],
      "execution_count": 38,
      "outputs": [
        {
          "output_type": "stream",
          "text": [
            "\n",
            " After freezing:\n",
            "\t Number of trainable variables:  6 \n",
            "\t Number of non trainable variables:  0\n"
          ],
          "name": "stdout"
        }
      ]
    },
    {
      "cell_type": "code",
      "metadata": {
        "id": "M6TxVvapHVCD",
        "colab_type": "code",
        "colab": {}
      },
      "source": [
        ""
      ],
      "execution_count": null,
      "outputs": []
    }
  ]
}