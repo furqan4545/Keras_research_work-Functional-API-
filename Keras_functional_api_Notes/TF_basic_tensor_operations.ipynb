{
  "nbformat": 4,
  "nbformat_minor": 0,
  "metadata": {
    "colab": {
      "name": "TF_basic_tensor_operations.ipynb",
      "provenance": [],
      "collapsed_sections": []
    },
    "kernelspec": {
      "name": "python3",
      "display_name": "Python 3"
    }
  },
  "cells": [
    {
      "cell_type": "code",
      "metadata": {
        "id": "t-1WpQkFhj0r",
        "colab_type": "code",
        "colab": {}
      },
      "source": [
        ""
      ],
      "execution_count": null,
      "outputs": []
    },
    {
      "cell_type": "code",
      "metadata": {
        "id": "AF40TntfNB9h",
        "colab_type": "code",
        "colab": {}
      },
      "source": [
        "import tensorflow as tf\n",
        "import numpy as np\n",
        "import pandas as pd\n",
        "import matplotlib.pyplot as plt"
      ],
      "execution_count": null,
      "outputs": []
    },
    {
      "cell_type": "code",
      "metadata": {
        "id": "I35plnTVjYl7",
        "colab_type": "code",
        "colab": {
          "base_uri": "https://localhost:8080/",
          "height": 105
        },
        "outputId": "37b7a8f9-d89e-466f-d159-3a62a3fdf4a1"
      },
      "source": [
        "from tensorflow.keras.layers import Dense\n",
        "from tensorflow.keras.models import Sequential\n",
        "\n",
        "model = Sequential([\n",
        "      Dense(1, input_shape = (4,))\n",
        "])\n",
        "\n",
        "print(model.weights)"
      ],
      "execution_count": null,
      "outputs": [
        {
          "output_type": "stream",
          "text": [
            "[<tf.Variable 'dense/kernel:0' shape=(4, 1) dtype=float32, numpy=\n",
            "array([[0.0631609 ],\n",
            "       [1.0447462 ],\n",
            "       [0.8694556 ],\n",
            "       [0.28567338]], dtype=float32)>, <tf.Variable 'dense/bias:0' shape=(1,) dtype=float32, numpy=array([0.], dtype=float32)>]\n"
          ],
          "name": "stdout"
        }
      ]
    },
    {
      "cell_type": "code",
      "metadata": {
        "id": "4vlNzEh-jYpP",
        "colab_type": "code",
        "colab": {}
      },
      "source": [
        "# (4, 1) input shape is length 4 i.e. we have total 4 records and dense layer has 1 unit. \n",
        "# Bias: (1,) bias has length 1. and bias value is 0. u can see from here numpy=array([0.]"
      ],
      "execution_count": null,
      "outputs": []
    },
    {
      "cell_type": "code",
      "metadata": {
        "id": "PgnsqUpqjCdY",
        "colab_type": "code",
        "colab": {
          "base_uri": "https://localhost:8080/",
          "height": 70
        },
        "outputId": "73462a18-5486-44af-d412-69de5a6a5685"
      },
      "source": [
        "import tensorflow as tf\n",
        "import numpy as np\n",
        "import pandas as pd\n",
        "\n",
        "my_var = tf.Variable([-1, 2])\n",
        "print(my_var)\n",
        "\n",
        "# it prints out the name, shape type and values of tensorflow variable\n",
        "# we can change the types of variable by saying:\n",
        "\n",
        "my_var = tf.Variable([-1, 2], dtype = tf.float32)\n",
        "print(my_var)\n",
        "\n",
        "# we can also give names to our variables \n",
        "my_var = tf.Variable([-1, 2], dtype = tf.float32, name = \"my_var\")\n",
        "print(my_var)\n",
        "\n",
        "# variable values are changed during training when we call \"model.fit\" operation. This will change the values for us as a part of optimization"
      ],
      "execution_count": null,
      "outputs": [
        {
          "output_type": "stream",
          "text": [
            "<tf.Variable 'Variable:0' shape=(2,) dtype=int32, numpy=array([-1,  2], dtype=int32)>\n",
            "<tf.Variable 'Variable:0' shape=(2,) dtype=float32, numpy=array([-1.,  2.], dtype=float32)>\n",
            "<tf.Variable 'my_var:0' shape=(2,) dtype=float32, numpy=array([-1.,  2.], dtype=float32)>\n"
          ],
          "name": "stdout"
        }
      ]
    },
    {
      "cell_type": "markdown",
      "metadata": {
        "id": "EiivL3TDllhc",
        "colab_type": "text"
      },
      "source": [
        "### *we can also change varibale values manually. Every variable has assign method and we can always pass new values to store in variable.*\n",
        "### remember the new assigned values should have the right shape "
      ]
    },
    {
      "cell_type": "code",
      "metadata": {
        "id": "Jjge28ONjCg-",
        "colab_type": "code",
        "colab": {
          "base_uri": "https://localhost:8080/",
          "height": 34
        },
        "outputId": "f784adc9-a561-488f-f55c-6165a8300bbc"
      },
      "source": [
        "my_var= tf.Variable([-1, 2], dtype = tf.float32, name = \"my_var\")\n",
        "my_var.assign([3.5, -1.])\n",
        "\n",
        "# finally we can convert tf varibbles directly to numpy array. \n",
        "x = my_var.numpy()\n",
        "print(x)"
      ],
      "execution_count": null,
      "outputs": [
        {
          "output_type": "stream",
          "text": [
            "[ 3.5 -1. ]\n"
          ],
          "name": "stdout"
        }
      ]
    },
    {
      "cell_type": "markdown",
      "metadata": {
        "id": "O0JNYMWyq_K5",
        "colab_type": "text"
      },
      "source": [
        "Learning rate of the optimizer is also a variable. we might want to change the learning rate during training so we use variables for our custom work"
      ]
    },
    {
      "cell_type": "code",
      "metadata": {
        "id": "cgV69v70jCnl",
        "colab_type": "code",
        "colab": {}
      },
      "source": [
        ""
      ],
      "execution_count": null,
      "outputs": []
    },
    {
      "cell_type": "markdown",
      "metadata": {
        "id": "N6pWNobAMmK2",
        "colab_type": "text"
      },
      "source": [
        "**Useful Operations** "
      ]
    },
    {
      "cell_type": "code",
      "metadata": {
        "id": "h8S4bsLejCuC",
        "colab_type": "code",
        "colab": {
          "base_uri": "https://localhost:8080/",
          "height": 283
        },
        "outputId": "f7c69091-7b8f-4cd9-d932-8121e6ea3d22"
      },
      "source": [
        "# create a constant tensor\n",
        "\n",
        "t = tf.constant(np.array(80), shape = [5,2, 8])\n",
        "t"
      ],
      "execution_count": null,
      "outputs": [
        {
          "output_type": "execute_result",
          "data": {
            "text/plain": [
              "<tf.Tensor: shape=(5, 2, 8), dtype=int64, numpy=\n",
              "array([[[80, 80, 80, 80, 80, 80, 80, 80],\n",
              "        [80, 80, 80, 80, 80, 80, 80, 80]],\n",
              "\n",
              "       [[80, 80, 80, 80, 80, 80, 80, 80],\n",
              "        [80, 80, 80, 80, 80, 80, 80, 80]],\n",
              "\n",
              "       [[80, 80, 80, 80, 80, 80, 80, 80],\n",
              "        [80, 80, 80, 80, 80, 80, 80, 80]],\n",
              "\n",
              "       [[80, 80, 80, 80, 80, 80, 80, 80],\n",
              "        [80, 80, 80, 80, 80, 80, 80, 80]],\n",
              "\n",
              "       [[80, 80, 80, 80, 80, 80, 80, 80],\n",
              "        [80, 80, 80, 80, 80, 80, 80, 80]]])>"
            ]
          },
          "metadata": {
            "tags": []
          },
          "execution_count": 8
        }
      ]
    },
    {
      "cell_type": "code",
      "metadata": {
        "id": "WimQ5tZfjC3P",
        "colab_type": "code",
        "colab": {
          "base_uri": "https://localhost:8080/",
          "height": 34
        },
        "outputId": "b2cc9c9d-699f-47c2-e215-0983bfc98de0"
      },
      "source": [
        "# Find rank of the matrix\n",
        "rank = tf.rank(t)\n",
        "print(rank)"
      ],
      "execution_count": null,
      "outputs": [
        {
          "output_type": "stream",
          "text": [
            "tf.Tensor(3, shape=(), dtype=int32)\n"
          ],
          "name": "stdout"
        }
      ]
    },
    {
      "cell_type": "code",
      "metadata": {
        "id": "zqOTvRL1jC75",
        "colab_type": "code",
        "colab": {
          "base_uri": "https://localhost:8080/",
          "height": 176
        },
        "outputId": "16845eae-4423-44b1-b06e-883102c55396"
      },
      "source": [
        "# Reshape a tensor\n",
        "\n",
        "t2 = tf.reshape(t, [8, 10])\n",
        "t2"
      ],
      "execution_count": null,
      "outputs": [
        {
          "output_type": "execute_result",
          "data": {
            "text/plain": [
              "<tf.Tensor: shape=(8, 10), dtype=int64, numpy=\n",
              "array([[80, 80, 80, 80, 80, 80, 80, 80, 80, 80],\n",
              "       [80, 80, 80, 80, 80, 80, 80, 80, 80, 80],\n",
              "       [80, 80, 80, 80, 80, 80, 80, 80, 80, 80],\n",
              "       [80, 80, 80, 80, 80, 80, 80, 80, 80, 80],\n",
              "       [80, 80, 80, 80, 80, 80, 80, 80, 80, 80],\n",
              "       [80, 80, 80, 80, 80, 80, 80, 80, 80, 80],\n",
              "       [80, 80, 80, 80, 80, 80, 80, 80, 80, 80],\n",
              "       [80, 80, 80, 80, 80, 80, 80, 80, 80, 80]])>"
            ]
          },
          "metadata": {
            "tags": []
          },
          "execution_count": 10
        }
      ]
    },
    {
      "cell_type": "code",
      "metadata": {
        "id": "7oNtUemFjC5p",
        "colab_type": "code",
        "colab": {
          "base_uri": "https://localhost:8080/",
          "height": 34
        },
        "outputId": "643fb8fd-2729-42ae-bcf6-85065405992a"
      },
      "source": [
        "print(\"t2 shape: \", t2.shape)"
      ],
      "execution_count": null,
      "outputs": [
        {
          "output_type": "stream",
          "text": [
            "t2 shape:  (8, 10)\n"
          ],
          "name": "stdout"
        }
      ]
    },
    {
      "cell_type": "code",
      "metadata": {
        "id": "5D1rJVatjC0t",
        "colab_type": "code",
        "colab": {}
      },
      "source": [
        "ones = tf.ones(shape= (2, 3))\n",
        "zeros = tf.zeros(shape= (2, 4))\n",
        "\n",
        "eye = tf.eye(3) # used for identity matrix\n",
        "tensor7 = tf.constant(7.0, shape=[2, 2])\n"
      ],
      "execution_count": null,
      "outputs": []
    },
    {
      "cell_type": "code",
      "metadata": {
        "id": "BX-tZYRxjCyd",
        "colab_type": "code",
        "colab": {
          "base_uri": "https://localhost:8080/",
          "height": 390
        },
        "outputId": "34366d9e-4bba-4bf6-d6ea-4531d85f1787"
      },
      "source": [
        "# Display the created tensors\n",
        "\n",
        "print(\"\\n Ones: \\n \", ones)\n",
        "print(\"\\n zeros: \\n \", zeros)\n",
        "print(\"\\n eye: \\n \", eye)\n",
        "print(\"\\n tensor7: \\n \", tensor7)"
      ],
      "execution_count": null,
      "outputs": [
        {
          "output_type": "stream",
          "text": [
            "\n",
            " Ones: \n",
            "  tf.Tensor(\n",
            "[[1. 1. 1.]\n",
            " [1. 1. 1.]], shape=(2, 3), dtype=float32)\n",
            "\n",
            " zeros: \n",
            "  tf.Tensor(\n",
            "[[0. 0. 0. 0.]\n",
            " [0. 0. 0. 0.]], shape=(2, 4), dtype=float32)\n",
            "\n",
            " eye: \n",
            "  tf.Tensor(\n",
            "[[1. 0. 0.]\n",
            " [0. 1. 0.]\n",
            " [0. 0. 1.]], shape=(3, 3), dtype=float32)\n",
            "\n",
            " tensor7: \n",
            "  tf.Tensor(\n",
            "[[7. 7.]\n",
            " [7. 7.]], shape=(2, 2), dtype=float32)\n"
          ],
          "name": "stdout"
        }
      ]
    },
    {
      "cell_type": "code",
      "metadata": {
        "id": "qU9ISfppjCw9",
        "colab_type": "code",
        "colab": {
          "base_uri": "https://localhost:8080/",
          "height": 123
        },
        "outputId": "7bbca4f2-d4c9-446b-9b52-2dfcf3f80773"
      },
      "source": [
        "# Create two tensors\n",
        "\n",
        "t1 = tf.zeros(shape= (2,2))\n",
        "t2 = tf.ones(shape =(2, 2))\n",
        "print(t1)\n",
        "print(t2)"
      ],
      "execution_count": null,
      "outputs": [
        {
          "output_type": "stream",
          "text": [
            "tf.Tensor(\n",
            "[[0. 0.]\n",
            " [0. 0.]], shape=(2, 2), dtype=float32)\n",
            "tf.Tensor(\n",
            "[[1. 1.]\n",
            " [1. 1.]], shape=(2, 2), dtype=float32)\n"
          ],
          "name": "stdout"
        }
      ]
    },
    {
      "cell_type": "code",
      "metadata": {
        "id": "P_ejNZ0hk-1L",
        "colab_type": "code",
        "colab": {
          "base_uri": "https://localhost:8080/",
          "height": 105
        },
        "outputId": "91442da6-3153-42d0-dfce-20c761693105"
      },
      "source": [
        "# concatenate two tensors in any diretion\n",
        "\n",
        "concat0 = tf.concat([t1, t2], 0)  # 0 mean vertically. \n",
        "print(concat0)"
      ],
      "execution_count": null,
      "outputs": [
        {
          "output_type": "stream",
          "text": [
            "tf.Tensor(\n",
            "[[0. 0.]\n",
            " [0. 0.]\n",
            " [1. 1.]\n",
            " [1. 1.]], shape=(4, 2), dtype=float32)\n"
          ],
          "name": "stdout"
        }
      ]
    },
    {
      "cell_type": "code",
      "metadata": {
        "id": "Tij2BqkMlM40",
        "colab_type": "code",
        "colab": {
          "base_uri": "https://localhost:8080/",
          "height": 70
        },
        "outputId": "118bdc9a-ef3e-427d-96dc-2deb75e64d07"
      },
      "source": [
        "concat0 = tf.concat([t1, t2], 1)  # 1 mean Horizontally. \n",
        "print(concat0)"
      ],
      "execution_count": null,
      "outputs": [
        {
          "output_type": "stream",
          "text": [
            "tf.Tensor(\n",
            "[[0. 0. 1. 1.]\n",
            " [0. 0. 1. 1.]], shape=(2, 4), dtype=float32)\n"
          ],
          "name": "stdout"
        }
      ]
    },
    {
      "cell_type": "code",
      "metadata": {
        "id": "Ij3HkEtujCr-",
        "colab_type": "code",
        "colab": {
          "base_uri": "https://localhost:8080/",
          "height": 70
        },
        "outputId": "dcb2c26c-7931-4283-e5a3-6af042cbb89c"
      },
      "source": [
        "t = tf.constant(np.arange(24), shape = (3, 2, 4))\n",
        "print(\"\\n t shape: \\n\", t.shape)"
      ],
      "execution_count": null,
      "outputs": [
        {
          "output_type": "stream",
          "text": [
            "\n",
            " t shape: \n",
            " (3, 2, 4)\n"
          ],
          "name": "stdout"
        }
      ]
    },
    {
      "cell_type": "code",
      "metadata": {
        "id": "YogMmFxXjCqy",
        "colab_type": "code",
        "colab": {
          "base_uri": "https://localhost:8080/",
          "height": 141
        },
        "outputId": "107a9044-2281-45fd-8f28-6335798e819a"
      },
      "source": [
        "# Expanding the dimensions/rank of tensors\n",
        "t1 = tf.expand_dims(t, 0)\n",
        "t2 = tf.expand_dims(t, 1)\n",
        "t3 = tf.expand_dims(t, 3)\n",
        "# we r expanding our tensor at 3 different places\n",
        "\n",
        "print(\"\\n After expanding dims: \\n t1 shape: \", t1.shape, \"\\n After expanding dims: \\n t2 shape: \", t2.shape, \"\\n After expanding dims: \\n t1 shape: \", t3.shape)"
      ],
      "execution_count": null,
      "outputs": [
        {
          "output_type": "stream",
          "text": [
            "\n",
            " After expanding dims: \n",
            " t1 shape:  (1, 3, 2, 4) \n",
            " After expanding dims: \n",
            " t2 shape:  (3, 1, 2, 4) \n",
            " After expanding dims: \n",
            " t1 shape:  (3, 2, 4, 1)\n"
          ],
          "name": "stdout"
        }
      ]
    },
    {
      "cell_type": "code",
      "metadata": {
        "id": "LWk8yDTojCl1",
        "colab_type": "code",
        "colab": {
          "base_uri": "https://localhost:8080/",
          "height": 52
        },
        "outputId": "6b8609fa-b99f-49cb-843d-ac271b040368"
      },
      "source": [
        "# squezing the redundant dimensions:\n",
        "\n",
        "t1 = tf.squeeze(t1, 0)\n",
        "print(t1.shape)\n",
        "# this is used to retrieve original shape or dimensions of the matrix/tensor/vector\n",
        "t2 = tf.squeeze(t2, 1)\n",
        "print(t2.shape)"
      ],
      "execution_count": null,
      "outputs": [
        {
          "output_type": "stream",
          "text": [
            "(3, 2, 4)\n",
            "(3, 2, 4)\n"
          ],
          "name": "stdout"
        }
      ]
    },
    {
      "cell_type": "code",
      "metadata": {
        "id": "AuSqhroAjCke",
        "colab_type": "code",
        "colab": {
          "base_uri": "https://localhost:8080/",
          "height": 34
        },
        "outputId": "36297066-324a-4943-bbff-5eb476304f0b"
      },
      "source": [
        "# slicing a tensor\n",
        "x = tf.constant([1,2,3,4,5,6,7])\n",
        "print(x[1: -3])"
      ],
      "execution_count": null,
      "outputs": [
        {
          "output_type": "stream",
          "text": [
            "tf.Tensor([2 3 4], shape=(3,), dtype=int32)\n"
          ],
          "name": "stdout"
        }
      ]
    },
    {
      "cell_type": "code",
      "metadata": {
        "id": "2IH9oTo-jCfN",
        "colab_type": "code",
        "colab": {
          "base_uri": "https://localhost:8080/",
          "height": 70
        },
        "outputId": "eb59c375-272a-466f-c885-76a5fb5f6e19"
      },
      "source": [
        "# Create a tensor with samples from a normal distribution\n",
        "\n",
        "tn = tf.random.normal(shape = (2,2), mean = 0, stddev = 1.)\n",
        "print(tn)"
      ],
      "execution_count": null,
      "outputs": [
        {
          "output_type": "stream",
          "text": [
            "tf.Tensor(\n",
            "[[-0.81997246 -1.0379481 ]\n",
            " [-0.28763196 -0.28084236]], shape=(2, 2), dtype=float32)\n"
          ],
          "name": "stdout"
        }
      ]
    },
    {
      "cell_type": "code",
      "metadata": {
        "id": "fhk_XrIJjCbq",
        "colab_type": "code",
        "colab": {
          "base_uri": "https://localhost:8080/",
          "height": 70
        },
        "outputId": "02620600-c0ee-41ff-9404-f82e43334b96"
      },
      "source": [
        "# create a tensor with uniform distribution\n",
        "tu = tf.random.uniform(shape = (2, 1), minval=0, maxval=10, dtype='int32')\n",
        "tu"
      ],
      "execution_count": null,
      "outputs": [
        {
          "output_type": "execute_result",
          "data": {
            "text/plain": [
              "<tf.Tensor: shape=(2, 1), dtype=int32, numpy=\n",
              "array([[7],\n",
              "       [0]], dtype=int32)>"
            ]
          },
          "metadata": {
            "tags": []
          },
          "execution_count": 34
        }
      ]
    },
    {
      "cell_type": "code",
      "metadata": {
        "id": "ZfXs8IpLq6Jv",
        "colab_type": "code",
        "colab": {
          "base_uri": "https://localhost:8080/",
          "height": 70
        },
        "outputId": "229461cd-0db6-400d-c0d7-cda4af64240f"
      },
      "source": [
        "# create a tensor with poision distribution\n",
        "\n",
        "tp = tf.random.poisson((2, 2), 5)\n",
        "tp"
      ],
      "execution_count": null,
      "outputs": [
        {
          "output_type": "execute_result",
          "data": {
            "text/plain": [
              "<tf.Tensor: shape=(2, 2), dtype=float32, numpy=\n",
              "array([[3., 3.],\n",
              "       [9., 4.]], dtype=float32)>"
            ]
          },
          "metadata": {
            "tags": []
          },
          "execution_count": 35
        }
      ]
    },
    {
      "cell_type": "code",
      "metadata": {
        "id": "mfo6Kya-rTT2",
        "colab_type": "code",
        "colab": {
          "base_uri": "https://localhost:8080/",
          "height": 176
        },
        "outputId": "ce1f3135-2ec2-4f4d-ecc6-601fd3780231"
      },
      "source": [
        "# more maths operation\n",
        "d = tf.square(tn)\n",
        "e = tf.exp(d)\n",
        "f = tf.cos(e)\n",
        "\n",
        "print(d)\n",
        "print(e)\n",
        "print(f)"
      ],
      "execution_count": null,
      "outputs": [
        {
          "output_type": "stream",
          "text": [
            "tf.Tensor(\n",
            "[[0.6723548  1.0773363 ]\n",
            " [0.08273214 0.07887243]], shape=(2, 2), dtype=float32)\n",
            "tf.Tensor(\n",
            "[[1.9588447 2.9368463]\n",
            " [1.0862508 1.0820663]], shape=(2, 2), dtype=float32)\n",
            "tf.Tensor(\n",
            "[[-0.3783826  -0.97911257]\n",
            " [ 0.46580628  0.46950498]], shape=(2, 2), dtype=float32)\n"
          ],
          "name": "stdout"
        }
      ]
    },
    {
      "cell_type": "code",
      "metadata": {
        "id": "JHExGu9ivFne",
        "colab_type": "code",
        "colab": {}
      },
      "source": [
        ""
      ],
      "execution_count": null,
      "outputs": []
    }
  ]
}