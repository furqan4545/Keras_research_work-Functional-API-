{
  "nbformat": 4,
  "nbformat_minor": 0,
  "metadata": {
    "colab": {
      "name": "keras_Functional_API_accessing_layers.ipynb",
      "provenance": [],
      "collapsed_sections": []
    },
    "kernelspec": {
      "name": "python3",
      "display_name": "Python 3"
    }
  },
  "cells": [
    {
      "cell_type": "code",
      "metadata": {
        "id": "z9HJvdoJj-Qh",
        "colab_type": "code",
        "colab": {}
      },
      "source": [
        "from tensorflow.keras.layers import Input, Dense, Flatten, Conv1D, AveragePooling1D\n",
        "from tensorflow.keras.models import Model\n",
        "\n",
        "from sklearn.model_selection import train_test_split\n",
        "import pandas as pd\n",
        "import numpy as np\n"
      ],
      "execution_count": null,
      "outputs": []
    },
    {
      "cell_type": "code",
      "metadata": {
        "id": "JUd0Ji6NkLzI",
        "colab_type": "code",
        "colab": {
          "base_uri": "https://localhost:8080/",
          "height": 54
        },
        "outputId": "6075663f-2c3b-49eb-fa9f-08446d94b15f"
      },
      "source": [
        "inputs = Input(shape =(32, 1))\n",
        "h = Conv1D(3, 5, activation= \"relu\")(inputs)\n",
        "h = AveragePooling1D(3)(h)\n",
        "h = Flatten()(h)\n",
        "outputs = Dense(1, activation = 'sigmoid')(h)\n",
        "\n",
        "model = Model(inputs = inputs, outputs = outputs)\n",
        "\n",
        "print(model.layers)"
      ],
      "execution_count": null,
      "outputs": [
        {
          "output_type": "stream",
          "text": [
            "[<tensorflow.python.keras.engine.input_layer.InputLayer object at 0x7fbf39f954a8>, <tensorflow.python.keras.layers.convolutional.Conv1D object at 0x7fbf39fae7b8>, <tensorflow.python.keras.layers.pooling.AveragePooling1D object at 0x7fbf39fb8278>, <tensorflow.python.keras.layers.core.Flatten object at 0x7fbf39fb80f0>, <tensorflow.python.keras.layers.core.Dense object at 0x7fbf39fb84a8>]\n"
          ],
          "name": "stdout"
        }
      ]
    },
    {
      "cell_type": "code",
      "metadata": {
        "id": "yLQB0_8Dkvze",
        "colab_type": "code",
        "colab": {
          "base_uri": "https://localhost:8080/",
          "height": 212
        },
        "outputId": "ca84070e-5cb5-4142-a5e1-30369daa847a"
      },
      "source": [
        "# we can access specific layer by their index\n",
        "print(model.layers[1])\n",
        "\n",
        "# we can access specific layer weights as well by the layer index\n",
        "print(model.layers[1].weights)\n",
        "# weights are stored as tensorflow varibales"
      ],
      "execution_count": null,
      "outputs": [
        {
          "output_type": "stream",
          "text": [
            "<tensorflow.python.keras.layers.convolutional.Conv1D object at 0x7fbf39fae7b8>\n",
            "[<tf.Variable 'conv1d_4/kernel:0' shape=(5, 1, 3) dtype=float32, numpy=\n",
            "array([[[ 0.0085541 ,  0.5132581 , -0.46980876]],\n",
            "\n",
            "       [[ 0.3813461 ,  0.38669586,  0.1472925 ]],\n",
            "\n",
            "       [[-0.54463613,  0.37689108,  0.5287545 ]],\n",
            "\n",
            "       [[-0.38352323,  0.39076638,  0.30319965]],\n",
            "\n",
            "       [[ 0.40643775, -0.4222157 , -0.09091392]]], dtype=float32)>, <tf.Variable 'conv1d_4/bias:0' shape=(3,) dtype=float32, numpy=array([0., 0., 0.], dtype=float32)>]\n"
          ],
          "name": "stdout"
        }
      ]
    },
    {
      "cell_type": "code",
      "metadata": {
        "id": "H25iModzlMhD",
        "colab_type": "code",
        "colab": {
          "base_uri": "https://localhost:8080/",
          "height": 176
        },
        "outputId": "c6977bd2-1d5e-4aad-9d35-4d39d71081db"
      },
      "source": [
        "# for acesing weights in numpy array format.\n",
        "\n",
        "print(model.layers[1].get_weights())"
      ],
      "execution_count": null,
      "outputs": [
        {
          "output_type": "stream",
          "text": [
            "[array([[[ 0.0085541 ,  0.5132581 , -0.46980876]],\n",
            "\n",
            "       [[ 0.3813461 ,  0.38669586,  0.1472925 ]],\n",
            "\n",
            "       [[-0.54463613,  0.37689108,  0.5287545 ]],\n",
            "\n",
            "       [[-0.38352323,  0.39076638,  0.30319965]],\n",
            "\n",
            "       [[ 0.40643775, -0.4222157 , -0.09091392]]], dtype=float32), array([0., 0., 0.], dtype=float32)]\n"
          ],
          "name": "stdout"
        }
      ]
    },
    {
      "cell_type": "code",
      "metadata": {
        "id": "sw1U9kSXlyos",
        "colab_type": "code",
        "colab": {
          "base_uri": "https://localhost:8080/",
          "height": 212
        },
        "outputId": "518d4129-ba1d-4285-e505-45e7f56b4886"
      },
      "source": [
        "print(model.layers[1].kernel)\n",
        "print(model.layers[1].bias)"
      ],
      "execution_count": null,
      "outputs": [
        {
          "output_type": "stream",
          "text": [
            "<tf.Variable 'conv1d_4/kernel:0' shape=(5, 1, 3) dtype=float32, numpy=\n",
            "array([[[ 0.0085541 ,  0.5132581 , -0.46980876]],\n",
            "\n",
            "       [[ 0.3813461 ,  0.38669586,  0.1472925 ]],\n",
            "\n",
            "       [[-0.54463613,  0.37689108,  0.5287545 ]],\n",
            "\n",
            "       [[-0.38352323,  0.39076638,  0.30319965]],\n",
            "\n",
            "       [[ 0.40643775, -0.4222157 , -0.09091392]]], dtype=float32)>\n",
            "<tf.Variable 'conv1d_4/bias:0' shape=(3,) dtype=float32, numpy=array([0., 0., 0.], dtype=float32)>\n"
          ],
          "name": "stdout"
        }
      ]
    },
    {
      "cell_type": "code",
      "metadata": {
        "id": "C7WO2h2Tl593",
        "colab_type": "code",
        "colab": {}
      },
      "source": [
        "# we can also access layer with  their name i.e. keyword argument \n",
        "# you can access the layer from the layer name by saying\n",
        "\n",
        "print(model.get_layer('conv1d_layer').bias)"
      ],
      "execution_count": null,
      "outputs": []
    },
    {
      "cell_type": "markdown",
      "metadata": {
        "id": "BLT7h12YEhit",
        "colab_type": "text"
      },
      "source": [
        "## Model into another Model"
      ]
    },
    {
      "cell_type": "code",
      "metadata": {
        "id": "Fv1I3LnSEf5X",
        "colab_type": "code",
        "colab": {}
      },
      "source": [
        "inputs = Input(shape =(32, 1), name = \"input_layer\")\n",
        "h = Conv1D(3, 5, activation= \"relu\", name=\"conv1d_layer\")(inputs)\n",
        "h = AveragePooling1D(3)(h)\n",
        "h = Flatten(name = \"flatten_layer\")(h)\n",
        "outputs = Dense(1, activation = 'sigmoid', name = \"dense_layer\")(h)\n",
        "\n",
        "model = Model(inputs = inputs, outputs = outputs)"
      ],
      "execution_count": null,
      "outputs": []
    },
    {
      "cell_type": "code",
      "metadata": {
        "id": "bUA4mh-jmkJb",
        "colab_type": "code",
        "colab": {}
      },
      "source": [
        "# Sequential api allow us to pass the whole model in to the list for e.g\n",
        "\n",
        "flatten_output = model.get_layer('flatten_layer').output\n",
        "\n",
        "model2 = Model(inputs= model.input, outputs = flatten_output)\n",
        "\n",
        "model3 = Sequential([\n",
        "        model2,\n",
        "        Dense(10, activation = \"softmax\", name= \"new_dense_layer\")\n",
        "])"
      ],
      "execution_count": null,
      "outputs": []
    },
    {
      "cell_type": "markdown",
      "metadata": {
        "id": "qwXRTQBIFRWq",
        "colab_type": "text"
      },
      "source": [
        "# Ofcourse we can also add model to another model with the help of functional APi"
      ]
    },
    {
      "cell_type": "code",
      "metadata": {
        "id": "QXtAjCZFl6GV",
        "colab_type": "code",
        "colab": {}
      },
      "source": [
        "inputs = Input(shape =(32, 1), name = \"input_layer\")\n",
        "h = Conv1D(3, 5, activation= \"relu\", name=\"conv1d_layer\")(inputs)\n",
        "h = AveragePooling1D(3)(h)\n",
        "h = Flatten(name = \"flatten_layer\")(h)\n",
        "outputs = Dense(1, activation = 'sigmoid', name = \"dense_layer\")(h)\n",
        "\n",
        "model = Model(inputs = inputs, outputs = outputs)"
      ],
      "execution_count": null,
      "outputs": []
    },
    {
      "cell_type": "code",
      "metadata": {
        "id": "sFia95z_l6Yu",
        "colab_type": "code",
        "colab": {}
      },
      "source": [
        "flatten_output = model.get_layer('flatten_layer').output\n",
        "\n",
        "model2 = Model(inputs= model.input, outputs = flatten_output)\n",
        "\n",
        "new_outputs = Dense(10, acctivation =\"softmax\", name=\"new_output_layer\")(model2.output)  # we r passing the model last layer in a seperate dense layer\n",
        "model3 = Model(inputs = model2.input, outputs= new_outputs)\n"
      ],
      "execution_count": null,
      "outputs": []
    },
    {
      "cell_type": "code",
      "metadata": {
        "id": "Ml4mOvKTl6WW",
        "colab_type": "code",
        "colab": {}
      },
      "source": [
        "# Ofcourse you don't need model2 as an intermediate layer, you can perform it directly as well.\n",
        "\n",
        "flatten_output = model.get_layer('flatten_layer').output\n",
        "\n",
        "new_outputs = Dense(10, acctivation =\"softmax\", name=\"new_output_layer\")(flatten_output) \n",
        "model3 = Model(inputs = model2.input, outputs= new_outputs)\n"
      ],
      "execution_count": null,
      "outputs": []
    },
    {
      "cell_type": "markdown",
      "metadata": {
        "id": "c_eQdEh50EFG",
        "colab_type": "text"
      },
      "source": [
        "## Creating a simple computational graph"
      ]
    },
    {
      "cell_type": "code",
      "metadata": {
        "id": "PSt3MEKNl6T6",
        "colab_type": "code",
        "colab": {
          "base_uri": "https://localhost:8080/",
          "height": 34
        },
        "outputId": "9b5edc4b-ab59-42ed-a06f-c6e09146432a"
      },
      "source": [
        "# Create the input layers\n",
        "\n",
        "import tensorflow as tf\n",
        "print(tf.__version__)\n",
        "from tensorflow.keras.layers import Input\n",
        "\n",
        "a = Input(shape=(128, 128, 3), name=\"input_a\")\n",
        "b = Input(shape=(64, 64, 3), name=\"input_b\")"
      ],
      "execution_count": null,
      "outputs": [
        {
          "output_type": "stream",
          "text": [
            "2.3.0\n"
          ],
          "name": "stdout"
        }
      ]
    },
    {
      "cell_type": "code",
      "metadata": {
        "id": "yKhCraiU0AHx",
        "colab_type": "code",
        "colab": {
          "base_uri": "https://localhost:8080/",
          "height": 34
        },
        "outputId": "d73180cf-dbea-49fa-dbc5-4561bc3b61c1"
      },
      "source": [
        "# Create and use the convolutional layer\n",
        "\n",
        "from tensorflow.keras.layers import Conv2D\n",
        "\n",
        "conv = Conv2D(32, (6, 6), padding='same')\n",
        "conv_out_a = conv(a)\n",
        "print(type(conv_out_a))\n"
      ],
      "execution_count": null,
      "outputs": [
        {
          "output_type": "stream",
          "text": [
            "<class 'tensorflow.python.framework.ops.Tensor'>\n"
          ],
          "name": "stdout"
        }
      ]
    },
    {
      "cell_type": "code",
      "metadata": {
        "id": "1o5uW1z30AKO",
        "colab_type": "code",
        "colab": {
          "base_uri": "https://localhost:8080/",
          "height": 52
        },
        "outputId": "48732940-631b-4d6e-bba6-8562276754a8"
      },
      "source": [
        "# Print the input and output tensors\n",
        "\n",
        "print(conv.input)\n",
        "print(conv.output)"
      ],
      "execution_count": null,
      "outputs": [
        {
          "output_type": "stream",
          "text": [
            "Tensor(\"input_a:0\", shape=(None, 128, 128, 3), dtype=float32)\n",
            "Tensor(\"conv2d_8/BiasAdd:0\", shape=(None, 128, 128, 32), dtype=float32)\n"
          ],
          "name": "stdout"
        }
      ]
    },
    {
      "cell_type": "code",
      "metadata": {
        "id": "dMMOX-qn0ANa",
        "colab_type": "code",
        "colab": {}
      },
      "source": [
        "# Verify the input and output shapes\n",
        "\n",
        "assert conv.input_shape == (None, 128, 128, 3)\n",
        "assert conv.output_shape == (None, 128, 128, 32)"
      ],
      "execution_count": null,
      "outputs": []
    },
    {
      "cell_type": "code",
      "metadata": {
        "id": "Db_P6VKd0Uqm",
        "colab_type": "code",
        "colab": {}
      },
      "source": [
        "# Call the layer a second time\n",
        "conv_out_b = conv(b)"
      ],
      "execution_count": null,
      "outputs": []
    },
    {
      "cell_type": "code",
      "metadata": {
        "id": "hNXEhb0e0f8A",
        "colab_type": "code",
        "colab": {}
      },
      "source": [
        ""
      ],
      "execution_count": null,
      "outputs": []
    },
    {
      "cell_type": "code",
      "metadata": {
        "id": "O_m7NTNi0f5z",
        "colab_type": "code",
        "colab": {}
      },
      "source": [
        ""
      ],
      "execution_count": null,
      "outputs": []
    }
  ]
}